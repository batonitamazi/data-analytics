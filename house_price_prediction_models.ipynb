{
  "nbformat": 4,
  "nbformat_minor": 0,
  "metadata": {
    "colab": {
      "provenance": []
    },
    "kernelspec": {
      "name": "python3",
      "display_name": "Python 3"
    },
    "language_info": {
      "name": "python"
    }
  },
  "cells": [
    {
      "cell_type": "code",
      "execution_count": 1,
      "metadata": {
        "colab": {
          "base_uri": "https://localhost:8080/"
        },
        "id": "ObnYnToGFtUP",
        "outputId": "690dc4b4-48b9-4b35-f5fe-6ff20db27923"
      },
      "outputs": [
        {
          "output_type": "stream",
          "name": "stdout",
          "text": [
            "Hello WOrld\n"
          ]
        }
      ],
      "source": [
        "print(\"Hello WOrld\")"
      ]
    },
    {
      "cell_type": "code",
      "source": [
        "import numpy as np\n",
        "import pandas as pd\n",
        "\n",
        "data = pd.read_csv(\"/content/sample_data/housing_price_dataset.csv\")\n",
        "print(data.head())\n",
        "#მოცემული დატასეტი ვიპოვე კეგლზე საკმაოდ ცნობილია და ზოგადადაც ერთ ერთი ყველაზე საინტერესო და მარტივია დამწყები ენთუზიასტებისთვის\n",
        "#ვინაიდან და რადგანაც ვაკეთებთ ფასის წინასწარმეტყველებას გამოვიყენებ რეგრესიულ მოდელებს\n",
        "#რადგანაც რეგრესიული მოდელი გვაძლევს რიცხვობრივ შედეგებს"
      ],
      "metadata": {
        "colab": {
          "base_uri": "https://localhost:8080/"
        },
        "id": "xjKD05flGBda",
        "outputId": "bc754d14-abd6-4327-af1c-a2b8a38c368d"
      },
      "execution_count": 18,
      "outputs": [
        {
          "output_type": "stream",
          "name": "stdout",
          "text": [
            "   SquareFeet  Bedrooms  Bathrooms Neighborhood  YearBuilt          Price\n",
            "0        2126         4          1        Rural       1969  215355.283618\n",
            "1        2459         3          2        Rural       1980  195014.221626\n",
            "2        1860         2          1       Suburb       1970  306891.012076\n",
            "3        2294         2          1        Urban       1996  206786.787153\n",
            "4        2130         5          2       Suburb       2001  272436.239065\n"
          ]
        }
      ]
    },
    {
      "cell_type": "code",
      "source": [
        "from sklearn.model_selection import train_test_split\n",
        "from sklearn.linear_model import LinearRegression\n",
        "from sklearn.preprocessing import OneHotEncoder\n",
        "from sklearn.compose import ColumnTransformer\n",
        "#ავარჩიოთ Feature ები და Label\n",
        "#Features არის ის სვეტები რომლებიც განსაზღვრავენ Labels ანუ X ები იქნებიან Features ები ხოლო Y იქნება Label ანუ ფასი\n",
        "#რომ არ ავაგო ცალკე მოდელი simple da multiple linear regression მოდელისთვის უბრალოდ ორი ცალი X მექნება და ერთს დავკაომენტარებ\n",
        "X = data[['SquareFeet', 'Bedrooms', 'Bathrooms', 'YearBuilt', 'Neighborhood']]\n",
        "# X = data['SquareFeet']\n",
        "y = data['Price']\n",
        "\n",
        "preprocessor = ColumnTransformer(\n",
        "    transformers=[\n",
        "        ('neighborhood', OneHotEncoder(drop='first'), ['Neighborhood'])\n",
        "    ],\n",
        "    remainder='passthrough'\n",
        ")"
      ],
      "metadata": {
        "id": "ambED2UxHHop"
      },
      "execution_count": 34,
      "outputs": []
    },
    {
      "cell_type": "code",
      "source": [
        "#საჭიროა რომ მონაცემები გავყოთ სატესტო და სატრენინგო ნაწილებათ რათა პროგრამამ ესე ვთქვათ არ დაიზეპიროს და შემდგომ სატესტოთი გავტესტოთ მოდელის ვალიდურობა და ეფექტურობა\n",
        "X_train, X_test, y_train, y_test = train_test_split(X, y, test_size=0.3, random_state=10)\n",
        "\n",
        "\n",
        "#მონაცემთა ენკოდირებისთვის გამოვიყენე ვანჰოტენკოდერი რადგანაც სამეზობლო იყო კატეგორიული ტიპის ცვლადი და გადავიყვანე ნუმერიკულში\n",
        "onehot_encoder = OneHotEncoder(drop='first', sparse=False)\n",
        "X_train_encoded = onehot_encoder.fit_transform(X_train[['Neighborhood']])\n",
        "X_test_encoded = onehot_encoder.transform(X_test[['Neighborhood']])\n",
        "\n",
        "X_train_encoded = np.concatenate([X_train_encoded, X_train.drop('Neighborhood', axis=1)], axis=1)\n",
        "X_test_encoded = np.concatenate([X_test_encoded, X_test.drop('Neighborhood', axis=1)], axis=1)"
      ],
      "metadata": {
        "colab": {
          "base_uri": "https://localhost:8080/"
        },
        "id": "s2j7DJ8IIpU5",
        "outputId": "5ea57a65-db91-48a5-ec9d-78866a7d197f"
      },
      "execution_count": 36,
      "outputs": [
        {
          "output_type": "stream",
          "name": "stdout",
          "text": [
            "\n"
          ]
        }
      ]
    },
    {
      "cell_type": "code",
      "source": [
        "#ავაგოთ მარტივი რეგრესიის მოდელი\n",
        "my_model = LinearRegression()\n",
        "my_model.fit(X_train_encoded, y_train)"
      ],
      "metadata": {
        "colab": {
          "base_uri": "https://localhost:8080/",
          "height": 75
        },
        "id": "bISGN11MI2kp",
        "outputId": "c6615c31-1ee9-4725-f5d5-c267d0e07374"
      },
      "execution_count": 37,
      "outputs": [
        {
          "output_type": "execute_result",
          "data": {
            "text/plain": [
              "LinearRegression()"
            ],
            "text/html": [
              "<style>#sk-container-id-2 {color: black;background-color: white;}#sk-container-id-2 pre{padding: 0;}#sk-container-id-2 div.sk-toggleable {background-color: white;}#sk-container-id-2 label.sk-toggleable__label {cursor: pointer;display: block;width: 100%;margin-bottom: 0;padding: 0.3em;box-sizing: border-box;text-align: center;}#sk-container-id-2 label.sk-toggleable__label-arrow:before {content: \"▸\";float: left;margin-right: 0.25em;color: #696969;}#sk-container-id-2 label.sk-toggleable__label-arrow:hover:before {color: black;}#sk-container-id-2 div.sk-estimator:hover label.sk-toggleable__label-arrow:before {color: black;}#sk-container-id-2 div.sk-toggleable__content {max-height: 0;max-width: 0;overflow: hidden;text-align: left;background-color: #f0f8ff;}#sk-container-id-2 div.sk-toggleable__content pre {margin: 0.2em;color: black;border-radius: 0.25em;background-color: #f0f8ff;}#sk-container-id-2 input.sk-toggleable__control:checked~div.sk-toggleable__content {max-height: 200px;max-width: 100%;overflow: auto;}#sk-container-id-2 input.sk-toggleable__control:checked~label.sk-toggleable__label-arrow:before {content: \"▾\";}#sk-container-id-2 div.sk-estimator input.sk-toggleable__control:checked~label.sk-toggleable__label {background-color: #d4ebff;}#sk-container-id-2 div.sk-label input.sk-toggleable__control:checked~label.sk-toggleable__label {background-color: #d4ebff;}#sk-container-id-2 input.sk-hidden--visually {border: 0;clip: rect(1px 1px 1px 1px);clip: rect(1px, 1px, 1px, 1px);height: 1px;margin: -1px;overflow: hidden;padding: 0;position: absolute;width: 1px;}#sk-container-id-2 div.sk-estimator {font-family: monospace;background-color: #f0f8ff;border: 1px dotted black;border-radius: 0.25em;box-sizing: border-box;margin-bottom: 0.5em;}#sk-container-id-2 div.sk-estimator:hover {background-color: #d4ebff;}#sk-container-id-2 div.sk-parallel-item::after {content: \"\";width: 100%;border-bottom: 1px solid gray;flex-grow: 1;}#sk-container-id-2 div.sk-label:hover label.sk-toggleable__label {background-color: #d4ebff;}#sk-container-id-2 div.sk-serial::before {content: \"\";position: absolute;border-left: 1px solid gray;box-sizing: border-box;top: 0;bottom: 0;left: 50%;z-index: 0;}#sk-container-id-2 div.sk-serial {display: flex;flex-direction: column;align-items: center;background-color: white;padding-right: 0.2em;padding-left: 0.2em;position: relative;}#sk-container-id-2 div.sk-item {position: relative;z-index: 1;}#sk-container-id-2 div.sk-parallel {display: flex;align-items: stretch;justify-content: center;background-color: white;position: relative;}#sk-container-id-2 div.sk-item::before, #sk-container-id-2 div.sk-parallel-item::before {content: \"\";position: absolute;border-left: 1px solid gray;box-sizing: border-box;top: 0;bottom: 0;left: 50%;z-index: -1;}#sk-container-id-2 div.sk-parallel-item {display: flex;flex-direction: column;z-index: 1;position: relative;background-color: white;}#sk-container-id-2 div.sk-parallel-item:first-child::after {align-self: flex-end;width: 50%;}#sk-container-id-2 div.sk-parallel-item:last-child::after {align-self: flex-start;width: 50%;}#sk-container-id-2 div.sk-parallel-item:only-child::after {width: 0;}#sk-container-id-2 div.sk-dashed-wrapped {border: 1px dashed gray;margin: 0 0.4em 0.5em 0.4em;box-sizing: border-box;padding-bottom: 0.4em;background-color: white;}#sk-container-id-2 div.sk-label label {font-family: monospace;font-weight: bold;display: inline-block;line-height: 1.2em;}#sk-container-id-2 div.sk-label-container {text-align: center;}#sk-container-id-2 div.sk-container {/* jupyter's `normalize.less` sets `[hidden] { display: none; }` but bootstrap.min.css set `[hidden] { display: none !important; }` so we also need the `!important` here to be able to override the default hidden behavior on the sphinx rendered scikit-learn.org. See: https://github.com/scikit-learn/scikit-learn/issues/21755 */display: inline-block !important;position: relative;}#sk-container-id-2 div.sk-text-repr-fallback {display: none;}</style><div id=\"sk-container-id-2\" class=\"sk-top-container\"><div class=\"sk-text-repr-fallback\"><pre>LinearRegression()</pre><b>In a Jupyter environment, please rerun this cell to show the HTML representation or trust the notebook. <br />On GitHub, the HTML representation is unable to render, please try loading this page with nbviewer.org.</b></div><div class=\"sk-container\" hidden><div class=\"sk-item\"><div class=\"sk-estimator sk-toggleable\"><input class=\"sk-toggleable__control sk-hidden--visually\" id=\"sk-estimator-id-2\" type=\"checkbox\" checked><label for=\"sk-estimator-id-2\" class=\"sk-toggleable__label sk-toggleable__label-arrow\">LinearRegression</label><div class=\"sk-toggleable__content\"><pre>LinearRegression()</pre></div></div></div></div></div>"
            ]
          },
          "metadata": {},
          "execution_count": 37
        }
      ]
    },
    {
      "cell_type": "code",
      "source": [
        "y_pred = my_model.predict(X_test_encoded)\n",
        "print(y_pred)\n",
        "#შეგვიძლია გავტესტოთ მოდელი სატესტო მნიშვნელობებით და იგი ფასს იწინასწარმეტყველებს"
      ],
      "metadata": {
        "colab": {
          "base_uri": "https://localhost:8080/"
        },
        "id": "7RLVIZJUM3qJ",
        "outputId": "a3edbf3a-30b8-4dc9-b228-212a33fde402"
      },
      "execution_count": 38,
      "outputs": [
        {
          "output_type": "stream",
          "name": "stdout",
          "text": [
            "[271304.34440512 211969.80531475 229739.22327695 ... 227268.65276027\n",
            " 142297.61648461 307979.73686413]\n"
          ]
        }
      ]
    },
    {
      "cell_type": "code",
      "source": [
        "from sklearn.metrics import mean_squared_error\n",
        "# მოდელის შეფასებისთვის გამოვიყენე  Mean Squared Error-ი რაც გვიჩვენებს რამდენია განსხვავება ნაწინასწარმეტყველებ მნიშვნელობასა და რეალურ მნიშვნელობას შორის\n",
        "mse = mean_squared_error(y_test, y_pred)\n",
        "print(f'Mean Squared Error: {mse}')"
      ],
      "metadata": {
        "colab": {
          "base_uri": "https://localhost:8080/"
        },
        "id": "VgO96hguNCbn",
        "outputId": "f038e2bc-5713-408f-e70c-03652eb2c494"
      },
      "execution_count": 39,
      "outputs": [
        {
          "output_type": "stream",
          "name": "stdout",
          "text": [
            "Mean Squared Error: 2474697625.3824406\n"
          ]
        }
      ]
    },
    {
      "cell_type": "code",
      "source": [
        "#გადავიდეთ გადაწყვეტილების ხეების მოდელის ალგორითმზე\n",
        "#აქ იდეაში ცალ-ცალკე აღარ ვაგებ მოდელს  რადგანა მხოლოდ X ცვლადის შეცვლაა საჭირო 1 ცვლადიან ან მრავალცვლადიან მოდელზე\n",
        "from sklearn.tree import DecisionTreeRegressor\n",
        "# X = data[['SquareFeet']]\n",
        "X = data[['SquareFeet', 'Bedrooms', 'Bathrooms', 'YearBuilt',]]\n",
        "y = data['Price']\n",
        "X_train, X_test, y_train, y_test = train_test_split(X, y, test_size=0.2, random_state=42)\n",
        "\n",
        "model = DecisionTreeRegressor(random_state=42)\n",
        "\n",
        "model.fit(X_train, y_train)\n",
        "\n",
        "y_pred = model.predict(X_test)\n",
        "print(y_pred)"
      ],
      "metadata": {
        "colab": {
          "base_uri": "https://localhost:8080/"
        },
        "id": "cl0DH9esNoKo",
        "outputId": "d4e3a9cc-7619-462e-ac89-ce44139f877c"
      },
      "execution_count": 44,
      "outputs": [
        {
          "output_type": "stream",
          "name": "stdout",
          "text": [
            "[156899.71934804 189249.50566672 305807.87790671 ... 359285.57620589\n",
            " 238486.81654628 244147.81720539]\n"
          ]
        }
      ]
    },
    {
      "cell_type": "code",
      "source": [
        "new_square_feet = np.array([[3000]])\n",
        "predicted_price = model.predict(new_square_feet)\n",
        "print(f'nawinaswaarmetyvelebi fasi: {predicted_price}')"
      ],
      "metadata": {
        "colab": {
          "base_uri": "https://localhost:8080/"
        },
        "id": "jBqmMF5yOxwv",
        "outputId": "b48998d5-216f-46ed-8546-248379c03bb3"
      },
      "execution_count": 42,
      "outputs": [
        {
          "output_type": "stream",
          "name": "stdout",
          "text": [
            "nawinaswaarmetyvelebi fasi: [345359.67733581]\n"
          ]
        },
        {
          "output_type": "stream",
          "name": "stderr",
          "text": [
            "/usr/local/lib/python3.10/dist-packages/sklearn/base.py:439: UserWarning: X does not have valid feature names, but DecisionTreeRegressor was fitted with feature names\n",
            "  warnings.warn(\n"
          ]
        }
      ]
    },
    {
      "cell_type": "code",
      "source": [
        "\n"
      ],
      "metadata": {
        "id": "gTwDryWBPZgI"
      },
      "execution_count": null,
      "outputs": []
    }
  ]
}